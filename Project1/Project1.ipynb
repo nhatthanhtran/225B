{
 "cells": [
  {
   "attachments": {},
   "cell_type": "markdown",
   "metadata": {},
   "source": [
    "# MATH 225B - PROJECT 1\n",
    "\n",
    "In this project we will use various of numerical method to solve the pendulum equation:\n",
    "$$\\dfrac{dp}{dt} = -\\sin(q),\\quad \\dfrac{dq}{dt} = p$$\n",
    "over the time interval $[0,20]$ with initial data $(p,q)(0) = (0,2)$ by the followings methods.\n",
    "\n",
    "\n",
    "1. Euler's method at time step $h=0.08, 0.04$. Plot the energy \n",
    "$E = p^2/2 +1 (1-\\cos(q))$ along the solutions.\n",
    "\n",
    "2. Symplectic Euler's method:\n",
    "$$q_{n+1} = q_n + hp_n, p_{n+1} = p_n - h\\sin(q_{n+1})$$\n",
    "at $h=0.08, 0.04$. Plot the energy $E$ and numerical energy \n",
    "$E_{num} = p^2/2 + 0.5 h p \\sin(q) + (1-\\cos(q))$ along the solutions. \n",
    "\n",
    "3. Modified Euler with Butcher tableau:\n",
    "\n",
    "0 | 0 | 0\n",
    "--|---|---\n",
    "1 | 1 | 0\n",
    "_ | 1/2 | 1/2\n",
    "\n",
    "at $h =0.08, 0.04$\n",
    "Plot the energy E along the solutions.\n",
    "\n",
    "4. Implicit midpoint method with Butcher tableau:\n",
    "\n",
    "0 | 0 | 0\n",
    "--|---|---\n",
    "1/2 | 0 | 1/2\n",
    "_ | 0 | 1\n",
    "\n",
    "at $h =0.08, 0.04$\n",
    "Plot the energy $E, E_{num}$ along the solutions.\n",
    "\n",
    "\n"
   ]
  },
  {
   "cell_type": "code",
   "execution_count": null,
   "metadata": {},
   "outputs": [],
   "source": [
    "from IPython import display\n",
    "import project1\n",
    "\n"
   ]
  }
 ],
 "metadata": {
  "kernelspec": {
   "display_name": "math228p1",
   "language": "python",
   "name": "python3"
  },
  "language_info": {
   "codemirror_mode": {
    "name": "ipython",
    "version": 3
   },
   "file_extension": ".py",
   "mimetype": "text/x-python",
   "name": "python",
   "nbconvert_exporter": "python",
   "pygments_lexer": "ipython3",
   "version": "3.11.0"
  },
  "orig_nbformat": 4,
  "vscode": {
   "interpreter": {
    "hash": "c5e664e9d37caa93be0678eccfc9d48c2d853285aeba93210efe46bd971991b4"
   }
  }
 },
 "nbformat": 4,
 "nbformat_minor": 2
}
