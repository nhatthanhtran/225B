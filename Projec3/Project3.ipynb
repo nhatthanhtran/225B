{
 "cells": [
  {
   "cell_type": "code",
   "execution_count": 5,
   "metadata": {},
   "outputs": [
    {
     "name": "stderr",
     "output_type": "stream",
     "text": [
      " 14%|█▍        | 14211/100000 [00:06<00:39, 2195.11it/s]\n"
     ]
    },
    {
     "ename": "KeyboardInterrupt",
     "evalue": "",
     "output_type": "error",
     "traceback": [
      "\u001b[1;31m---------------------------------------------------------------------------\u001b[0m",
      "\u001b[1;31mKeyboardInterrupt\u001b[0m                         Traceback (most recent call last)",
      "Cell \u001b[1;32mIn[5], line 49\u001b[0m\n\u001b[0;32m     47\u001b[0m arr_DE \u001b[39m=\u001b[39m np\u001b[39m.\u001b[39mzeros((arr_sigmas\u001b[39m.\u001b[39mshape[\u001b[39m0\u001b[39m],))\n\u001b[0;32m     48\u001b[0m \u001b[39mfor\u001b[39;00m sigma, i \u001b[39min\u001b[39;00m \u001b[39mzip\u001b[39m(arr_sigmas, \u001b[39mrange\u001b[39m(arr_sigmas\u001b[39m.\u001b[39mshape[\u001b[39m0\u001b[39m])):\n\u001b[1;32m---> 49\u001b[0m     sol \u001b[39m=\u001b[39m euler_marayuma(\u001b[39mlambda\u001b[39;49;00m x, dt, dW: f(x,dt,sigma,dW), \n\u001b[0;32m     50\u001b[0m         tspan, h, initial, num_trials\u001b[39m=\u001b[39;49mnum_trials)\n\u001b[0;32m     52\u001b[0m     arr_DE[i] \u001b[39m=\u001b[39m np\u001b[39m.\u001b[39mmean(np\u001b[39m.\u001b[39mpower(sol[\u001b[39m0\u001b[39m,:] \u001b[39m-\u001b[39m initial[\u001b[39m0\u001b[39m],\u001b[39m2\u001b[39m),axis\u001b[39m=\u001b[39m\u001b[39m0\u001b[39m)\u001b[39m/\u001b[39m(\u001b[39m2\u001b[39m\u001b[39m*\u001b[39mT)\n\u001b[0;32m     53\u001b[0m plt\u001b[39m.\u001b[39mfigure()\n",
      "Cell \u001b[1;32mIn[5], line 13\u001b[0m, in \u001b[0;36meuler_marayuma\u001b[1;34m(f, tspan, h, initial, num_trials)\u001b[0m\n\u001b[0;32m     10\u001b[0m arr_sol \u001b[39m=\u001b[39m initial \u001b[39m+\u001b[39m np\u001b[39m.\u001b[39mzeros((n,num_trials))\n\u001b[0;32m     12\u001b[0m \u001b[39mfor\u001b[39;00m i \u001b[39min\u001b[39;00m trange(nt\u001b[39m-\u001b[39m\u001b[39m1\u001b[39m):\n\u001b[1;32m---> 13\u001b[0m     arr_gaunoise \u001b[39m=\u001b[39m (h\u001b[39m*\u001b[39m\u001b[39m*\u001b[39m\u001b[39m0.5\u001b[39m)\u001b[39m*\u001b[39mnp\u001b[39m.\u001b[39;49mrandom\u001b[39m.\u001b[39;49mrandn(n, num_trials)\n\u001b[0;32m     14\u001b[0m     arr_sol \u001b[39m=\u001b[39m arr_sol \u001b[39m+\u001b[39m f(arr_sol, h, arr_gaunoise)\n\u001b[0;32m     16\u001b[0m \u001b[39mreturn\u001b[39;00m arr_sol\n",
      "\u001b[1;31mKeyboardInterrupt\u001b[0m: "
     ]
    }
   ],
   "source": [
    "import numpy as np\n",
    "from tqdm.auto import trange\n",
    "import matplotlib.pyplot as plt\n",
    "\n",
    "def euler_marayuma(f, tspan, h, initial, num_trials=1):\n",
    "    t = np.arange(start=tspan[0], stop=tspan[1]+h/2, step=h).reshape(-1,1)\n",
    "        \n",
    "    n, _ = initial.shape\n",
    "    nt, _ = t.shape \n",
    "    arr_sol = initial + np.zeros((n,num_trials))\n",
    "\n",
    "    for i in trange(nt-1):\n",
    "        arr_gaunoise = (h**0.5)*np.random.randn(n, num_trials)\n",
    "        arr_sol = arr_sol + f(arr_sol, h, arr_gaunoise)\n",
    "    \n",
    "    return arr_sol\n",
    "\n",
    "def symplectic_splitting(f, tspan, h, initial, num_trials=1):\n",
    "    t = np.arange(start=tspan[0], stop=tspan[1]+h/2, step=h).reshape(-1,1)\n",
    "        \n",
    "    n, _ = initial.shape\n",
    "    nt, _ = t.shape \n",
    "    arr_sol = initial + np.zeros((n,num_trials))\n",
    "\n",
    "    for i in trange(nt):\n",
    "        arr_gaunoise = (h**0.5)*np.random.randn(n, num_trials)\n",
    "        arr_sol = arr_sol + f(arr_sol, h, arr_gaunoise)\n",
    "    \n",
    "    return arr_sol\n",
    "\n",
    "\n",
    "\n",
    "def f(x, dt, sigma, dW):\n",
    "    return np.array([-np.sin(x[1,:])*dt + sigma*dW[0,:], np.sin(x[0,:])*dt + sigma*dW[1,:]])\n",
    "\n",
    "def f_ss(x,dt,sigma,dW):\n",
    "    return np.array([-np.sin(x[1,:])*dt + sigma*dW[0,:], np.sin(x[0,:]- \n",
    "        np.sin(x[1,:])*dt)*dt + sigma*dW[1,:]])\n",
    "\n",
    "arr_sigmas = 10**np.linspace(start=-1,stop=-6, num=6)\n",
    "h = 0.05\n",
    "num_trials = 5000\n",
    "T = 5000\n",
    "tspan = [0,T]\n",
    "initial = np.zeros((2,1)) + 1\n",
    "\n",
    "arr_DE = np.zeros((arr_sigmas.shape[0],))\n",
    "for sigma, i in zip(arr_sigmas, range(arr_sigmas.shape[0])):\n",
    "    sol = euler_marayuma(lambda x, dt, dW: f(x,dt,sigma,dW), \n",
    "        tspan, h, initial, num_trials=num_trials)\n",
    "    \n",
    "    arr_DE[i] = np.mean(np.power(sol[0,:] - initial[0],2),axis=0)/(2*T)\n",
    "plt.figure()\n",
    "plt.loglog(arr_DE, arr_sigmas,'+')\n",
    "plt.xlabel(r'$D_E$')\n",
    "plt.ylabel(r'$\\sigma$')\n",
    "plt.show()\n",
    "arr_DE = np.zeros((arr_sigmas.shape[0],))\n",
    "for sigma, i in zip(arr_sigmas, range(arr_sigmas.shape[0])):\n",
    "    sol = symplectic_splitting(lambda x, dt, dW: f_ss(x,dt,sigma,dW), \n",
    "        tspan, h, initial, num_trials=num_trials)\n",
    "    \n",
    "    arr_DE[i] = np.mean(np.power(sol[0,:]- initial[0],2),axis=0)/(2*T)\n",
    "\n",
    "plt.figure()\n",
    "plt.loglog(arr_DE, arr_sigmas,'+')\n",
    "plt.xlabel(r'$D_E$')\n",
    "plt.ylabel(r'$\\sigma$')\n",
    "plt.show()\n",
    "\n",
    "\n",
    "\n",
    "\n",
    "\n",
    "\n",
    "\n"
   ]
  },
  {
   "cell_type": "code",
   "execution_count": 2,
   "metadata": {},
   "outputs": [
    {
     "name": "stdout",
     "output_type": "stream",
     "text": [
      "[1.02796547e-01 6.51520482e-05 5.21304575e-07 4.99913427e-09\n",
      " 4.88425456e-11 4.91885835e-13]\n",
      "[5.e-03 5.e-05 5.e-07 5.e-09 5.e-11 5.e-13]\n"
     ]
    },
    {
     "data": {
      "text/plain": [
       "<Figure size 640x480 with 0 Axes>"
      ]
     },
     "execution_count": 2,
     "metadata": {},
     "output_type": "execute_result"
    },
    {
     "data": {
      "image/png": "[encoded data removed]",
      "text/plain": [
       "<Figure size 640x480 with 1 Axes>"
      ]
     },
     "metadata": {},
     "output_type": "display_data"
    },
    {
     "data": {
      "text/plain": [
       "<Figure size 640x480 with 0 Axes>"
      ]
     },
     "metadata": {},
     "output_type": "display_data"
    }
   ],
   "source": [
    "import matplotlib.pyplot as plt\n",
    "print(arr_DE)\n",
    "print(0.5*(arr_sigmas**2))\n",
    "\n",
    "plt.loglog(arr_DE, arr_sigmas)\n",
    "\n",
    "plt.figure()"
   ]
  },
  {
   "cell_type": "code",
   "execution_count": null,
   "metadata": {},
   "outputs": [],
   "source": []
  }
 ],
 "metadata": {
  "kernelspec": {
   "display_name": "math228p2",
   "language": "python",
   "name": "python3"
  },
  "language_info": {
   "codemirror_mode": {
    "name": "ipython",
    "version": 3
   },
   "file_extension": ".py",
   "mimetype": "text/x-python",
   "name": "python",
   "nbconvert_exporter": "python",
   "pygments_lexer": "ipython3",
   "version": "3.10.9"
  },
  "orig_nbformat": 4,
  "vscode": {
   "interpreter": {
    "hash": "4b5fae13954b58ad2b0758fb569f7d61b735a4f7f3651c577d5f941435d6aa82"
   }
  }
 },
 "nbformat": 4,
 "nbformat_minor": 2
}
